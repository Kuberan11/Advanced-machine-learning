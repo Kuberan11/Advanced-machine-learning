{
 "cells": [
  {
   "cell_type": "code",
   "execution_count": 3,
   "id": "91afcc44",
   "metadata": {},
   "outputs": [
    {
     "name": "stdout",
     "output_type": "stream",
     "text": [
      "Requirement already satisfied: chefboost in c:\\users\\arun kumaran\\conda\\lib\\site-packages (0.0.17)\n",
      "Requirement already satisfied: numpy>=1.14.0 in c:\\users\\arun kumaran\\conda\\lib\\site-packages (from chefboost) (1.23.5)\n",
      "Requirement already satisfied: tqdm>=4.30.0 in c:\\users\\arun kumaran\\conda\\lib\\site-packages (from chefboost) (4.64.1)\n",
      "Requirement already satisfied: psutil>=5.4.3 in c:\\users\\arun kumaran\\conda\\lib\\site-packages (from chefboost) (5.9.0)\n",
      "Requirement already satisfied: pandas>=0.22.0 in c:\\users\\arun kumaran\\conda\\lib\\site-packages (from chefboost) (1.5.3)\n",
      "Requirement already satisfied: python-dateutil>=2.8.1 in c:\\users\\arun kumaran\\conda\\lib\\site-packages (from pandas>=0.22.0->chefboost) (2.8.2)\n",
      "Requirement already satisfied: pytz>=2020.1 in c:\\users\\arun kumaran\\conda\\lib\\site-packages (from pandas>=0.22.0->chefboost) (2022.7)\n",
      "Requirement already satisfied: colorama in c:\\users\\arun kumaran\\conda\\lib\\site-packages (from tqdm>=4.30.0->chefboost) (0.4.6)\n",
      "Requirement already satisfied: six>=1.5 in c:\\users\\arun kumaran\\conda\\lib\\site-packages (from python-dateutil>=2.8.1->pandas>=0.22.0->chefboost) (1.16.0)\n",
      "[INFO]:  6 CPU cores will be allocated in parallel running\n",
      "WARNING: You set the algorithm to  C4.5  but the Decision column of your data set has non-object type.\n",
      "That's why, the algorithm is set to Regression to handle the data set.\n",
      "Regression  tree is going to be built...\n",
      "-------------------------\n",
      "finished in  4.7796618938446045  seconds\n",
      "-------------------------\n",
      "Evaluate  train set\n",
      "-------------------------\n",
      "MAE:  32.272026814778556\n",
      "MSE:  2357.554380553817\n",
      "RMSE:  48.55465354169276\n",
      "RAE:  0.2758259354284318\n",
      "RRSE:  1.2338029232985706\n",
      "Mean:  171.57839384878014\n",
      "MAE / Mean:  18.808910662272176 %\n",
      "RMSE / Mean:  28.298815749776857 %\n"
     ]
    },
    {
     "data": {
      "text/plain": [
       "130.0710323"
      ]
     },
     "execution_count": 3,
     "metadata": {},
     "output_type": "execute_result"
    }
   ],
   "source": [
    "!pip install chefboost\n"
   ]
  },
  {
   "cell_type": "code",
   "execution_count": 1,
   "id": "21f00746",
   "metadata": {
    "scrolled": true
   },
   "outputs": [
    {
     "name": "stdout",
     "output_type": "stream",
     "text": [
      "Requirement already satisfied: chefboost in c:\\users\\kuber\\anaconda3\\lib\\site-packages (0.0.17)\n",
      "Requirement already satisfied: pandas>=0.22.0 in c:\\users\\kuber\\anaconda3\\lib\\site-packages (from chefboost) (2.0.3)\n",
      "Requirement already satisfied: numpy>=1.14.0 in c:\\users\\kuber\\anaconda3\\lib\\site-packages (from chefboost) (1.24.3)\n",
      "Requirement already satisfied: tqdm>=4.30.0 in c:\\users\\kuber\\anaconda3\\lib\\site-packages (from chefboost) (4.65.0)\n",
      "Requirement already satisfied: psutil>=5.4.3 in c:\\users\\kuber\\anaconda3\\lib\\site-packages (from chefboost) (5.9.0)\n",
      "Requirement already satisfied: python-dateutil>=2.8.2 in c:\\users\\kuber\\anaconda3\\lib\\site-packages (from pandas>=0.22.0->chefboost) (2.8.2)\n",
      "Requirement already satisfied: pytz>=2020.1 in c:\\users\\kuber\\anaconda3\\lib\\site-packages (from pandas>=0.22.0->chefboost) (2023.3.post1)\n",
      "Requirement already satisfied: tzdata>=2022.1 in c:\\users\\kuber\\anaconda3\\lib\\site-packages (from pandas>=0.22.0->chefboost) (2023.3)\n",
      "Requirement already satisfied: colorama in c:\\users\\kuber\\anaconda3\\lib\\site-packages (from tqdm>=4.30.0->chefboost) (0.4.6)\n",
      "Requirement already satisfied: six>=1.5 in c:\\users\\kuber\\anaconda3\\lib\\site-packages (from python-dateutil>=2.8.2->pandas>=0.22.0->chefboost) (1.16.0)\n"
     ]
    }
   ],
   "source": [
    "!pip install chefboost"
   ]
  },
  {
   "cell_type": "code",
   "execution_count": 2,
   "id": "b6608d88",
   "metadata": {},
   "outputs": [
    {
     "name": "stdout",
     "output_type": "stream",
     "text": [
      "[INFO]:  8 CPU cores will be allocated in parallel running\n",
      "WARNING: You set the algorithm to  C4.5  but the Decision column of your data set has non-object type.\n",
      "That's why, the algorithm is set to Regression to handle the data set.\n",
      "Regression  tree is going to be built...\n",
      "-------------------------\n",
      "finished in  15.429720640182495  seconds\n",
      "-------------------------\n",
      "Evaluate  train set\n",
      "-------------------------\n",
      "MAE:  32.272026814778556\n",
      "MSE:  2357.554380553817\n",
      "RMSE:  48.55465354169276\n",
      "RAE:  0.2758259354284318\n",
      "RRSE:  1.2338029232985706\n",
      "Mean:  171.57839384878014\n",
      "MAE / Mean:  18.808910662272176 %\n",
      "RMSE / Mean:  28.298815749776857 %\n"
     ]
    },
    {
     "data": {
      "text/plain": [
       "130.0710323"
      ]
     },
     "execution_count": 2,
     "metadata": {},
     "output_type": "execute_result"
    }
   ],
   "source": [
    "from chefboost import Chefboost as chef\n",
    "import pandas as pd\n",
    "df = pd.read_csv(r\"C:\\Users\\kuber\\Downloads\\da.csv\")\n",
    "df\n",
    "config = {'algorithm': 'C4.5'}\n",
    "model = chef.fit(df, config = config, target_label = 'CPI')\n",
    "prediction = chef.predict(model, param=[1,1641957.44,1,38.51,2.548,8.106])\n",
    "prediction"
   ]
  },
  {
   "cell_type": "code",
   "execution_count": null,
   "id": "10bc6ba7",
   "metadata": {},
   "outputs": [],
   "source": []
  }
 ],
 "metadata": {
  "kernelspec": {
   "display_name": "Python 3 (ipykernel)",
   "language": "python",
   "name": "python3"
  },
  "language_info": {
   "codemirror_mode": {
    "name": "ipython",
    "version": 3
   },
   "file_extension": ".py",
   "mimetype": "text/x-python",
   "name": "python",
   "nbconvert_exporter": "python",
   "pygments_lexer": "ipython3",
   "version": "3.11.5"
  }
 },
 "nbformat": 4,
 "nbformat_minor": 5
}
